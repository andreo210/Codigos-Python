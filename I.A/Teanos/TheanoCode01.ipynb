{
 "cells": [
  {
   "cell_type": "markdown",
   "metadata": {},
   "source": [
    "# <font color='blue'>Data Science Academy - Deep Learning Frameworks</font>"
   ]
  },
  {
   "cell_type": "markdown",
   "metadata": {},
   "source": [
    "## Theano - Introdução"
   ]
  },
  {
   "cell_type": "code",
   "execution_count": 1,
   "metadata": {
    "collapsed": false
   },
   "outputs": [
    {
     "name": "stdout",
     "output_type": "stream",
     "text": [
      "Fetching package metadata .........\n",
      "Solving package specifications: .\n",
      "\n",
      "# All requested packages already installed.\n",
      "# packages in environment at /home/dmpm/anaconda3:\n",
      "#\n",
      "theano                    0.9.0                    py36_0  \n"
     ]
    }
   ],
   "source": [
    "# Instalação e configuração\n",
    "!conda install theano"
   ]
  },
  {
   "cell_type": "markdown",
   "metadata": {},
   "source": [
    "Theano pode compilar de forma transparente em hardware diferente. O dispositivo que ele usa por padrão depende de seu arquivo .theanorc e quaisquer variáveis de ambiente definidas, como descrito em detalhes aqui: http://deeplearning.net/software/theano/library/config.html Atualmente, você deve usar float32 quando usar mais GPUs, mas a maioria das pessoas prefere usar float64 em uma CPU. Por conveniência, Theano fornece a variável de configuração floatX que designa a precisão de flutuação a ser usada. Por exemplo, você pode executar um script Python com determinadas variáveis de ambiente definidas para usar a CPU:\n",
    "\n",
    "THEANO_FLAGS = dispositivo = cpu, floatX = float64 python seu_script.py\n",
    "\n",
    "Ou GPU:\n",
    "\n",
    "THEANO_FLAGS = dispositivo = gpu, floatX = float32 python seu_script.py"
   ]
  },
  {
   "cell_type": "code",
   "execution_count": 2,
   "metadata": {
    "collapsed": false
   },
   "outputs": [
    {
     "name": "stdout",
     "output_type": "stream",
     "text": [
      "1.0\n"
     ]
    }
   ],
   "source": [
    "# Executando um modelo com o Theano\n",
    "import theano\n",
    "import numpy\n",
    " \n",
    "# Cria a variável x que será um vetor de floats    \n",
    "x = theano.tensor.fvector('x')\n",
    "\n",
    "# Cria a variável W que será um vetor com valores [0.3, 0.7] e atribui o nome W\n",
    "W = theano.shared(numpy.asarray([0.3, 0.7]), 'W')\n",
    "\n",
    "# Define a multiplicação element-wise de x por W, realiza a soma e grava em y\n",
    "y = (x * W).sum()\n",
    " \n",
    "# Define uma função theano com input x e output y\n",
    "f = theano.function([x], y)\n",
    " \n",
    "# Chama a função e passa os valores de x    \n",
    "output = f([1.0, 1.0])\n",
    "\n",
    "# Imprime o resultado (y)\n",
    "print (output)"
   ]
  },
  {
   "cell_type": "code",
   "execution_count": 3,
   "metadata": {
    "collapsed": true
   },
   "outputs": [],
   "source": [
    "# Carregando Pacotes\n",
    "import numpy as np\n",
    "import matplotlib.pyplot as plt\n",
    "import theano\n",
    "from theano import tensor as T\n",
    "from theano import function"
   ]
  },
  {
   "cell_type": "markdown",
   "metadata": {},
   "source": [
    "## Variáveis"
   ]
  },
  {
   "cell_type": "markdown",
   "metadata": {},
   "source": [
    "Podemos definir variáveis que ainda não possuem valores. Normalmente, as variáveis são utilizadas para entradas na nossa rede. Theano não terá acesso aos seus nomes de variáveis Python, então você tem que atribuir nomes Theano explícitos para cada variável se você quer que eles sejam referidos como algo mais útil do que apenas \"um tensor\". Em Theano, todos os símbolos devem ser digitados. Em particular, T.dscalar é o tipo que atribuímos a \"matrizes 0-dimensionais (escalares) de duplas (d)\". É um tipo de dado no Theano."
   ]
  },
  {
   "cell_type": "markdown",
   "metadata": {},
   "source": [
    "Chamando T.dscalar() com um argumento de sequência de caracteres, você cria uma variável que representa uma quantidade escalar de ponto flutuante com o nome fornecido. Se você fornecer nenhum argumento, o símbolo será anônimo. Os nomes não são necessários, mas podem ajudar com a depuração do código."
   ]
  },
  {
   "cell_type": "code",
   "execution_count": 4,
   "metadata": {
    "collapsed": false
   },
   "outputs": [],
   "source": [
    "x = T.dscalar('x')\n",
    "y = T.dscalar('y')\n",
    "z = x + y\n",
    "f = theano.function([x,y],z)"
   ]
  },
  {
   "cell_type": "code",
   "execution_count": 5,
   "metadata": {
    "collapsed": false
   },
   "outputs": [
    {
     "data": {
      "text/plain": [
       "array(5.0)"
      ]
     },
     "execution_count": 5,
     "metadata": {},
     "output_type": "execute_result"
    }
   ],
   "source": [
    "f(2,3)"
   ]
  },
  {
   "cell_type": "code",
   "execution_count": 6,
   "metadata": {
    "collapsed": false
   },
   "outputs": [
    {
     "data": {
      "text/plain": [
       "array(28.4)"
      ]
     },
     "execution_count": 6,
     "metadata": {},
     "output_type": "execute_result"
    }
   ],
   "source": [
    "f(16.3, 12.1)"
   ]
  },
  {
   "cell_type": "code",
   "execution_count": 7,
   "metadata": {
    "collapsed": false
   },
   "outputs": [
    {
     "data": {
      "text/plain": [
       "theano.tensor.var.TensorVariable"
      ]
     },
     "execution_count": 7,
     "metadata": {},
     "output_type": "execute_result"
    }
   ],
   "source": [
    "type(x)"
   ]
  },
  {
   "cell_type": "code",
   "execution_count": 8,
   "metadata": {
    "collapsed": false
   },
   "outputs": [
    {
     "data": {
      "text/plain": [
       "TensorType(float64, scalar)"
      ]
     },
     "execution_count": 8,
     "metadata": {},
     "output_type": "execute_result"
    }
   ],
   "source": [
    "x.type"
   ]
  },
  {
   "cell_type": "code",
   "execution_count": 9,
   "metadata": {
    "collapsed": false
   },
   "outputs": [
    {
     "data": {
      "text/plain": [
       "TensorType(float64, scalar)"
      ]
     },
     "execution_count": 9,
     "metadata": {},
     "output_type": "execute_result"
    }
   ],
   "source": [
    "T.dscalar"
   ]
  },
  {
   "cell_type": "code",
   "execution_count": 10,
   "metadata": {
    "collapsed": false
   },
   "outputs": [
    {
     "data": {
      "text/plain": [
       "True"
      ]
     },
     "execution_count": 10,
     "metadata": {},
     "output_type": "execute_result"
    }
   ],
   "source": [
    "x.type is T.dscalar"
   ]
  },
  {
   "cell_type": "code",
   "execution_count": 11,
   "metadata": {
    "collapsed": true
   },
   "outputs": [],
   "source": [
    "z = x + y"
   ]
  },
  {
   "cell_type": "code",
   "execution_count": 12,
   "metadata": {
    "collapsed": false
   },
   "outputs": [
    {
     "name": "stdout",
     "output_type": "stream",
     "text": [
      "(x + y)\n"
     ]
    }
   ],
   "source": [
    "from theano import pp\n",
    "print (pp(z))"
   ]
  },
  {
   "cell_type": "code",
   "execution_count": 13,
   "metadata": {
    "collapsed": false
   },
   "outputs": [],
   "source": [
    "f = theano.function([x,y],z)"
   ]
  },
  {
   "cell_type": "code",
   "execution_count": 14,
   "metadata": {
    "collapsed": false
   },
   "outputs": [
    {
     "data": {
      "text/plain": [
       "array(28.4)"
      ]
     },
     "execution_count": 14,
     "metadata": {},
     "output_type": "execute_result"
    }
   ],
   "source": [
    "import theano.tensor as T\n",
    "x = T.dscalar('x')\n",
    "y = T.dscalar('y')\n",
    "z = x + y\n",
    "z.eval({x:16.3,y:12.1})"
   ]
  },
  {
   "cell_type": "code",
   "execution_count": 15,
   "metadata": {
    "collapsed": false
   },
   "outputs": [],
   "source": [
    "x = T.dmatrix('x')\n",
    "y = T.dmatrix('y')\n",
    "z = x + y\n",
    "f = theano.function([x,y],z)"
   ]
  },
  {
   "cell_type": "code",
   "execution_count": 16,
   "metadata": {
    "collapsed": false
   },
   "outputs": [
    {
     "data": {
      "text/plain": [
       "array([[ 11.,  22.],\n",
       "       [ 33.,  44.]])"
      ]
     },
     "execution_count": 16,
     "metadata": {},
     "output_type": "execute_result"
    }
   ],
   "source": [
    "f([[1,2],[3,4]], [[10,20],[30,40]])"
   ]
  },
  {
   "cell_type": "code",
   "execution_count": 17,
   "metadata": {
    "collapsed": false
   },
   "outputs": [
    {
     "data": {
      "text/plain": [
       "array([[ 11.,  22.],\n",
       "       [ 33.,  44.]])"
      ]
     },
     "execution_count": 17,
     "metadata": {},
     "output_type": "execute_result"
    }
   ],
   "source": [
    "import numpy\n",
    "f(numpy.array([[1,2],[3,4]]), numpy.array([[10,20], [30,40]]))"
   ]
  },
  {
   "cell_type": "code",
   "execution_count": 18,
   "metadata": {
    "collapsed": false
   },
   "outputs": [
    {
     "name": "stdout",
     "output_type": "stream",
     "text": [
      "2.0\n",
      "9.0\n"
     ]
    }
   ],
   "source": [
    "a = T.scalar()\n",
    "b = T.scalar()\n",
    "\n",
    "y = a * b\n",
    "\n",
    "multiply = theano.function(inputs=[a, b], outputs=y)\n",
    "\n",
    "print (multiply(1, 2))\n",
    "print (multiply(3, 3))"
   ]
  },
  {
   "cell_type": "markdown",
   "metadata": {},
   "source": [
    "Esses tipos estão disponíveis:\n",
    "\n",
    "#### Byte: bscalar, bvector, bmatrix, testa, bcol, btensor3, btensor4\n",
    "#### Inteiros de 16 bits: wscalar, wvector, wmatrix, wrow, wcol, wtensor3, wtensor4\n",
    "#### Inteiros de 32 bits: iscalar, ivector, imatrix, irow, icol, itensor3, itensor4\n",
    "#### Inteiros de 64 bits: lscalar, lvector, lmatrix, lrow, lcol, ltensor3, ltensor4\n",
    "#### Float: fscalar, fvector, fmatrix, frow, fcol, ftensor3, ftensor4\n",
    "#### Double: dscalar, dvector, dmatrix, drow, dcol, dtensor3, dtensor4\n",
    "#### Complex: cscalar, cvector, cmatrix, corvo, ccol, ctensor3, ctensor4"
   ]
  },
  {
   "cell_type": "markdown",
   "metadata": {},
   "source": [
    "## Grafos Simbólicos"
   ]
  },
  {
   "cell_type": "markdown",
   "metadata": {},
   "source": [
    "Em Theano, todos os algoritmos são definidos simbolicamente. É mais como escrever matemática do que escrever código. As variáveis simbólicas no Theano não têm um valor explícito.O submódulo theano.tensor tem vários tipos de variáveis simbólicas primitivas. Também chamados de variáveis simbólicas."
   ]
  },
  {
   "cell_type": "code",
   "execution_count": 19,
   "metadata": {
    "collapsed": false
   },
   "outputs": [
    {
     "name": "stdout",
     "output_type": "stream",
     "text": [
      "<class 'theano.tensor.var.TensorVariable'>\n",
      "TensorType(float64, scalar)\n",
      "(foo ** TensorConstant{2})\n"
     ]
    }
   ],
   "source": [
    "# Aqui, estamos definindo uma variável escalar (0-d). O argumento dá à variável seu nome.\n",
    "foo = T.scalar('foo')\n",
    "\n",
    "# Agora, podemos definir outra variável que é apenas foo squared.\n",
    "bar = foo**2\n",
    "\n",
    "# Isso também será uma variável theano.\n",
    "print(type(bar))\n",
    "print(bar.type)\n",
    "\n",
    "# Usando a função theano pp (pretty print), vemos que\n",
    "# bar é definida simbolicamente como o quadrado de foo\n",
    "print(theano.pp(bar))"
   ]
  },
  {
   "cell_type": "code",
   "execution_count": 20,
   "metadata": {
    "collapsed": false
   },
   "outputs": [
    {
     "name": "stdout",
     "output_type": "stream",
     "text": [
      "[ 25.  49.]\n"
     ]
    }
   ],
   "source": [
    "# Variáveis simbólicas não tem valor explícito\n",
    "a = T.vector()      # declara a variável\n",
    "b = T.vector()      # declara a variável\n",
    "out = a**2 + b**2 + 2*a*b       # expressão que representa a variável simbólica \"out\"\n",
    "f = theano.function([a,b], out) # compila a função\n",
    "print (f([2,3],[3,4]))"
   ]
  },
  {
   "cell_type": "markdown",
   "metadata": {},
   "source": [
    "## Funções"
   ]
  },
  {
   "cell_type": "markdown",
   "metadata": {},
   "source": [
    "As funções no Theano são basicamente meios para interagir com o grafo simbólico. Comumente, usamos as funções para passar a entrada em nossa rede e coletar a saída resultante."
   ]
  },
  {
   "cell_type": "markdown",
   "metadata": {},
   "source": [
    "Quando construímos uma função, o Theano assume e executa parte de sua própria magia. Ele constrói o grafo computacional e otimiza o máximo possível. Ele reestrutura as operações matemáticas para torná-las mais rápidas e estáveis, compila algumas partes em C, move alguns tensores para a GPU, etc.\n",
    "\n",
    "A compilação Theano pode ser controlada definindo o valor do modo na variável de ambiente THEANO_FLAGS:\n",
    "\n",
    "#### FAST_COMPILE - Rápido para compilar, lento para ser executado. Implementações Python somente, otimização mínima do grafo.\n",
    "#### FAST_RUN - lento para compilar, rápido para executar. Implementações em C onde disponíveis, gama completa de otimizações."
   ]
  },
  {
   "cell_type": "code",
   "execution_count": 21,
   "metadata": {
    "collapsed": false
   },
   "outputs": [
    {
     "name": "stdout",
     "output_type": "stream",
     "text": [
      "9.0\n"
     ]
    }
   ],
   "source": [
    "f = theano.function([foo], bar)\n",
    "print(f(3))"
   ]
  },
  {
   "cell_type": "code",
   "execution_count": 22,
   "metadata": {
    "collapsed": false
   },
   "outputs": [
    {
     "name": "stdout",
     "output_type": "stream",
     "text": [
      "9.0\n"
     ]
    }
   ],
   "source": [
    "# Alternativamente, em alguns casos você pode usar o método eval da variável simbólica.\n",
    "# Isso pode ser mais conveniente do que definir uma função.\n",
    "# O método eval recebe um dicionário onde as \"chaves\" são variáveis theano e os \"valores\" são valores para essas variáveis.\n",
    "print(bar.eval({foo: 3}))"
   ]
  },
  {
   "cell_type": "code",
   "execution_count": 23,
   "metadata": {
    "collapsed": false
   },
   "outputs": [
    {
     "name": "stdout",
     "output_type": "stream",
     "text": [
      "9.0\n"
     ]
    }
   ],
   "source": [
    "# Também podemos usar funções Python para construir variáveis Theano.\n",
    "# Isso pode tornar a sintaxe mais limpa para exemplos mais complicados.\n",
    "def square(x):\n",
    "    return x**2\n",
    "bar = square(foo)\n",
    "print(bar.eval({foo: 3}))"
   ]
  },
  {
   "cell_type": "code",
   "execution_count": 24,
   "metadata": {
    "collapsed": false
   },
   "outputs": [
    {
     "data": {
      "text/plain": [
       "array([[ 0.5       ,  0.73105858],\n",
       "       [ 0.26894142,  0.11920292]])"
      ]
     },
     "execution_count": 24,
     "metadata": {},
     "output_type": "execute_result"
    }
   ],
   "source": [
    "# Função Logística\n",
    "import theano.tensor as T\n",
    "from theano import function\n",
    "x = T.dmatrix('x')\n",
    "s = 1 / (1 + T.exp(-x))\n",
    "logistic = function([x],s)\n",
    "logistic([[0,1],[-1,-2]])"
   ]
  },
  {
   "cell_type": "code",
   "execution_count": 25,
   "metadata": {
    "collapsed": false
   },
   "outputs": [
    {
     "data": {
      "text/plain": [
       "array([[ 0.5       ,  0.73105858],\n",
       "       [ 0.26894142,  0.11920292]])"
      ]
     },
     "execution_count": 25,
     "metadata": {},
     "output_type": "execute_result"
    }
   ],
   "source": [
    "# Função tangente\n",
    "s2 = (1 + T.tanh(x/2)) / 2\n",
    "logistic2 = function([x],s2)\n",
    "logistic2([[0,1],[-1,-2]])"
   ]
  },
  {
   "cell_type": "markdown",
   "metadata": {},
   "source": [
    "## Shared Variables"
   ]
  },
  {
   "cell_type": "markdown",
   "metadata": {},
   "source": [
    "Podemos também definir variáveis compartilhadas, que são compartilhadas entre diferentes funções e diferentes chamadas de função. Normalmente, as variáveis compartilhadas seriam usadas para pesos em nossa rede neural. O Theano tentará automaticamente mover as variáveis compartilhadas para a GPU, desde que esteja disponível, para acelerar a computação."
   ]
  },
  {
   "cell_type": "code",
   "execution_count": 26,
   "metadata": {
    "collapsed": false
   },
   "outputs": [
    {
     "name": "stdout",
     "output_type": "stream",
     "text": [
      "<TensorType(float64, matrix)>\n"
     ]
    }
   ],
   "source": [
    "shared_var = theano.shared(np.array([[1, 2], [3, 4]], dtype=theano.config.floatX))\n",
    "print(shared_var.type())"
   ]
  },
  {
   "cell_type": "code",
   "execution_count": 27,
   "metadata": {
    "collapsed": false
   },
   "outputs": [
    {
     "name": "stdout",
     "output_type": "stream",
     "text": [
      "[[ 3.  4.]\n",
      " [ 2.  1.]]\n"
     ]
    }
   ],
   "source": [
    "# Podemos definir o valor de uma variável compartilhada usando set_value\n",
    "shared_var.set_value(np.array([[3, 4], [2, 1]], dtype=theano.config.floatX))\n",
    "\n",
    "# E obter o valor com get_value\n",
    "print(shared_var.get_value())"
   ]
  },
  {
   "cell_type": "code",
   "execution_count": 28,
   "metadata": {
    "collapsed": false
   },
   "outputs": [
    {
     "name": "stdout",
     "output_type": "stream",
     "text": [
      "[[  9.  16.]\n",
      " [  4.   1.]]\n"
     ]
    }
   ],
   "source": [
    "# O primeiro argumento de theano.function (inputs) diz ao Theano quais devem ser os argumentos para a função compilada.\n",
    "# Note que, como shared_var é compartilhado, ele já tem um valor, portanto, não precisa ser uma entrada para a função.\n",
    "# Portanto, Theano implicitamente considera shared_var uma entrada para uma função usando shared_squared e portanto \n",
    "# não precisamos incluí-lo no argumento inputs da função theano.function().\n",
    "shared_squared = shared_var**2\n",
    "function_1 = theano.function([], shared_squared)\n",
    "print(function_1())"
   ]
  },
  {
   "cell_type": "markdown",
   "metadata": {},
   "source": [
    "## Updates"
   ]
  },
  {
   "cell_type": "markdown",
   "metadata": {},
   "source": [
    "Também podemos atualizar o estado de uma variável compartilhada em uma função com Updates"
   ]
  },
  {
   "cell_type": "code",
   "execution_count": 29,
   "metadata": {
    "collapsed": false
   },
   "outputs": [
    {
     "name": "stdout",
     "output_type": "stream",
     "text": [
      "shared_var before subtracting [[1, 1], [1, 1]] using function_2:\n",
      "[[ 3.  4.]\n",
      " [ 2.  1.]]\n",
      "shared_var after calling function_2:\n",
      "[[ 2.  3.]\n",
      " [ 1.  0.]]\n",
      "New output of function_1() (shared_var**2):\n",
      "[[ 4.  9.]\n",
      " [ 1.  0.]]\n"
     ]
    }
   ],
   "source": [
    "# Variável\n",
    "subtract = T.matrix('subtract')\n",
    "\n",
    "# Updates recebe um dict onde as chaves são variáveis compartilhadas e os valores são o novo valor \n",
    "# que a variável compartilhada deve assumir\n",
    "# Aqui, as atualizações serão definidas como shared_var = shared_var - subtract\n",
    "function_2 = theano.function([subtract], shared_var, updates={shared_var: shared_var - subtract})\n",
    "print(\"shared_var before subtracting [[1, 1], [1, 1]] using function_2:\")\n",
    "print(shared_var.get_value())\n",
    "\n",
    "# Subtract [[1, 1], [1, 1]] de shared_var\n",
    "function_2(np.array([[1, 1], [1, 1]], dtype=theano.config.floatX))\n",
    "print(\"shared_var after calling function_2:\")\n",
    "print(shared_var.get_value())\n",
    "\n",
    "# Observe que isso também altera a saída de function_1, porque shared_var é compartilhado!\n",
    "print(\"New output of function_1() (shared_var**2):\")\n",
    "print(function_1())"
   ]
  },
  {
   "cell_type": "markdown",
   "metadata": {},
   "source": [
    "## Gradientes"
   ]
  },
  {
   "cell_type": "markdown",
   "metadata": {},
   "source": [
    "No cálculo vetorial o gradiente (ou vetor gradiente) é um vetor que indica o sentido e a direção na qual, por deslocamento a partir do ponto especificado, obtém-se o maior incremento possível no valor de uma grandeza a partir da qual se define um campo escalar para o espaço em consideração. Constrói-se assim, a partir do campo escalar e de um operador denominado operador gradiente, um campo vetorial, que atrela a cada ponto do espaço o correspondente vetor gradiente para a grandeza em consideração.\n",
    "\n",
    "O módulo do vetor gradiente indica a taxa de variação da grandeza escalar com relação à distância movida quando desloca-se na direção e sentido do vetor gradiente (deslocamentos infinitesimais)."
   ]
  },
  {
   "cell_type": "markdown",
   "metadata": {},
   "source": [
    "Um gradiente é a razão segundo a qual uma quantidade variável aumenta ou diminui. \n",
    "\n",
    "Por exemplo, o gradiente de diferença de potencial é a diferença de potencial por unidade de comprimento ao longo do condutor ou através do dielétrico em função do tempo. \n",
    "\n",
    "O gradiente de tensão , é a tensão por unidade de comprimento, ao longo de um circuito, ou outro percurso condutor por unidade de tempo, podendo ser positivo, ou negativo. \n",
    "\n",
    "O gradiente de uma função escalar é o co-vetor com a direção segundo qual ocorre a maior taxa de mudança da função. O seu módulo é igual à taxa da variação da função ao longo dessa direcção."
   ]
  },
  {
   "cell_type": "code",
   "execution_count": 30,
   "metadata": {
    "collapsed": false
   },
   "outputs": [
    {
     "data": {
      "text/plain": [
       "array(20.0)"
      ]
     },
     "execution_count": 30,
     "metadata": {},
     "output_type": "execute_result"
    }
   ],
   "source": [
    "# Lembre-se que bar = foo ** 2\n",
    "# Podemos calcular o gradiente de bar em relação a foo assim:\n",
    "bar_grad = T.grad(bar, foo)\n",
    "\n",
    "# Esperamos que bar_grad = 2 * foo\n",
    "bar_grad.eval({foo: 10})"
   ]
  },
  {
   "cell_type": "markdown",
   "metadata": {},
   "source": [
    "## Regressão Linear"
   ]
  },
  {
   "cell_type": "markdown",
   "metadata": {},
   "source": [
    "Quando estamos criando um modelo com Theano, primeiro definimos um grafo simbólico de todas as variáveis e operações que precisam ser executadas. E então podemos aplicar este grafo em entradas específicas para obter saídas."
   ]
  },
  {
   "cell_type": "markdown",
   "metadata": {},
   "source": [
    "Por exemplo, o que você acha que acontece quando esta linha de código Theano é executada em nosso script?\n",
    "\n",
    "Y = (x * W).sum()\n",
    "\n",
    "O sistema recebe x e W, multiplica-os e somar os valores. Certo? É um pouco mais complexo que isso!"
   ]
  },
  {
   "cell_type": "markdown",
   "metadata": {},
   "source": [
    "Na verdade, criamos um objeto Theano y que sabe que seus valores podem ser calculados como o produto de x e W. Mas as operações matemáticas necessárias não são realizadas aqui. Na verdade, quando essa linha foi executada no nosso código de exemplo acima, x nem sequer tinha um valor ainda.\n",
    "\n",
    "Ao encadear várias operações, estamos criando um grafo de todas as variáveis e funções que precisam ser usadas para alcançar os valores de saída. Esse grafo simbólico também é a razão pela qual só podemos usar operações específicas do Theano ao definir nossos modelos. Se tentássemos integrar funções de alguma biblioteca Python aleatória em nossa rede, eles tentariam executar os cálculos imediatamente, ao invés de retornar uma variável Theano conforme necessário. Exceções existem - Theano substitui alguns operadores Python básicos para agir como esperado, e NumPy bem integrado com Theano."
   ]
  },
  {
   "cell_type": "code",
   "execution_count": 31,
   "metadata": {
    "collapsed": false
   },
   "outputs": [
    {
     "name": "stdout",
     "output_type": "stream",
     "text": [
      "2.040882466161671\n"
     ]
    }
   ],
   "source": [
    "import theano\n",
    "from theano import tensor as T\n",
    "import numpy as np\n",
    "\n",
    "# Define valores que serão usados como dados de entrada e saída para treinar o modelo\n",
    "trX = np.linspace(-1, 1, 101)\n",
    "trY = 2 * trX + np.random.randn(*trX.shape) * 0.33\n",
    "\n",
    "# Variáveis Theano\n",
    "X = T.scalar()\n",
    "Y = T.scalar()\n",
    "\n",
    "# Definindo o modelo de regressão linear\n",
    "def model(X, w):\n",
    "    return X * w\n",
    "\n",
    "# Variável compartilhada que servirá como um dos parâmetros do modelo\n",
    "w = theano.shared(np.asarray(0., dtype=theano.config.floatX))\n",
    "\n",
    "# Cria o modelo\n",
    "y = model(X, w)\n",
    "\n",
    "# Cost Function\n",
    "cost = T.mean(T.sqr(y - Y))\n",
    "\n",
    "# Gradiente\n",
    "gradient = T.grad(cost=cost, wrt=w)\n",
    "\n",
    "# Atualiza o valor do parâmetro\n",
    "updates = [[w, w - gradient * 0.01]]\n",
    "\n",
    "# Função para treinar o modelo\n",
    "train = theano.function(inputs=[X, Y], outputs=cost, updates=updates, allow_input_downcast=True)\n",
    "\n",
    "# Treina o modelo\n",
    "for i in range(100):\n",
    "    for x, y in zip(trX, trY):\n",
    "        train(x, y)\n",
    "\n",
    "# Obtém o valor do parâmetro que foi aprendido pelo modelo\n",
    "print (w.get_value())"
   ]
  },
  {
   "cell_type": "markdown",
   "metadata": {},
   "source": [
    "## Visualizando Um Modelo de Regressão Linear"
   ]
  },
  {
   "cell_type": "code",
   "execution_count": 32,
   "metadata": {
    "collapsed": false
   },
   "outputs": [
    {
     "name": "stdout",
     "output_type": "stream",
     "text": [
      "Iteração 1\n",
      "w = 1.02880106\n",
      "\n",
      "Iteração 2\n",
      "w = 1.54428463\n",
      "\n",
      "Iteração 3\n",
      "w = 1.80256906\n",
      "\n",
      "Iteração 4\n",
      "w = 1.93198318\n",
      "\n",
      "Iteração 5\n",
      "w = 1.99682647\n",
      "\n",
      "Iteração 6\n",
      "w = 2.02931638\n",
      "\n",
      "Iteração 7\n",
      "w = 2.04559554\n",
      "\n",
      "Iteração 8\n",
      "w = 2.05375225\n",
      "\n",
      "Iteração 9\n",
      "w = 2.05783920\n",
      "\n",
      "Iteração 10\n",
      "w = 2.05988697\n",
      "\n",
      "Iteração 11\n",
      "w = 2.06091301\n",
      "\n",
      "Iteração 12\n",
      "w = 2.06142712\n",
      "\n",
      "Iteração 13\n",
      "w = 2.06168471\n",
      "\n",
      "Iteração 14\n",
      "w = 2.06181377\n",
      "\n",
      "Iteração 15\n",
      "w = 2.06187844\n",
      "\n",
      "Iteração 16\n",
      "w = 2.06191085\n",
      "\n",
      "Iteração 17\n",
      "w = 2.06192708\n",
      "\n",
      "Iteração 18\n",
      "w = 2.06193522\n",
      "\n",
      "Iteração 19\n",
      "w = 2.06193929\n",
      "\n",
      "Iteração 20\n",
      "w = 2.06194134\n",
      "\n"
     ]
    },
    {
     "data": {
      "text/plain": [
       "[<matplotlib.lines.Line2D at 0x7f8a8ba61a90>]"
      ]
     },
     "execution_count": 32,
     "metadata": {},
     "output_type": "execute_result"
    },
    {
     "data": {
      "image/png": "[encoded data removed]",
      "text/plain": [
       "<matplotlib.figure.Figure at 0x7f8a8b94a320>"
      ]
     },
     "metadata": {},
     "output_type": "display_data"
    }
   ],
   "source": [
    "import theano\n",
    "import theano.tensor as T\n",
    "import numpy as np\n",
    "import matplotlib.pyplot as plt\n",
    "plt.ion()\n",
    "\n",
    "# Define valores que serão usados como dados de entrada e saída para treinar o modelo\n",
    "x_train = np.linspace(-1, 1, 101)\n",
    "t_train = 2 * x_train + np.random.randn(*x_train.shape) * 0.33\n",
    "\n",
    "# Plot dos dados\n",
    "plt.scatter(x_train, t_train)\n",
    "\n",
    "# Variáveis Theano\n",
    "x = T.scalar()\n",
    "t = T.scalar()\n",
    "\n",
    "# Definindo o modelo de regressão linear\n",
    "def model(x, w):\n",
    "    return x * w\n",
    "\n",
    "# Definindo o parâmetro como variável compartilhada\n",
    "w = theano.shared(0.0)\n",
    "\n",
    "# Criando o modelo\n",
    "y = model(x, w)\n",
    "\n",
    "# Cost Function\n",
    "cost = T.mean((t - y) ** 2)\n",
    "\n",
    "# Gradiente\n",
    "g = T.grad(cost, w)\n",
    "\n",
    "# Atualiza o parâmetro\n",
    "updates = [(w, w - g * 0.01)]\n",
    "\n",
    "# Compila a função para o treinamento\n",
    "train = theano.function([x, t], cost, updates=updates)\n",
    "\n",
    "# Treina o modelo\n",
    "for i in range(20):\n",
    "    print (\"Iteração %d\" % (i + 1))\n",
    "    for x, t in zip(x_train, t_train):\n",
    "        train(x, t)\n",
    "\n",
    "    print (\"w = %.8f\" % w.get_value())\n",
    "    print ()\n",
    "    \n",
    "\n",
    "# Plot da linha de regressão\n",
    "plt.plot(x_train, w.get_value() * x_train)"
   ]
  },
  {
   "cell_type": "markdown",
   "metadata": {
    "collapsed": true
   },
   "source": [
    "## Fim"
   ]
  }
 ],
 "metadata": {
  "kernelspec": {
   "display_name": "Python 3",
   "language": "python",
   "name": "python3"
  },
  "language_info": {
   "codemirror_mode": {
    "name": "ipython",
    "version": 3
   },
   "file_extension": ".py",
   "mimetype": "text/x-python",
   "name": "python",
   "nbconvert_exporter": "python",
   "pygments_lexer": "ipython3",
   "version": "3.6.0"
  }
 },
 "nbformat": 4,
 "nbformat_minor": 2
}
