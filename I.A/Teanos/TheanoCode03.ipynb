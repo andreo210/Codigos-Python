{
 "cells": [
  {
   "cell_type": "markdown",
   "metadata": {},
   "source": [
    "# <font color='blue'>Data Science Academy - Deep Learning Frameworks</font>"
   ]
  },
  {
   "cell_type": "markdown",
   "metadata": {},
   "source": [
    "## Deep Learning com Theano - Reconhecimento de Imagens com CNNs"
   ]
  },
  {
   "cell_type": "markdown",
   "metadata": {},
   "source": [
    "As Redes Neurais Convolucionais são um tipo especial de redes neurais de camadas múltiplas. Como quase todas as outras redes neurais, elas são treinadas com uma versão do algoritmo de retro-propagação (Backpropagation). Onde eles diferem é na arquitetura. As Redes Neurais Convolucionais são projetadas para reconhecer padrões visuais diretamente de imagens de pixel com pré-processamento mínimo. Elas podem reconhecer padrões com variabilidade extrema (como caracteres manuscritos), e com robustez a distorções e transformações geométricas simples.\n",
    "\n",
    "LeNet-5 é uma das mais poderosas aquiteturas de rede convolucional concebida para reconhecimento de caracteres manuscritos e impressos por máquina. "
   ]
  },
  {
   "cell_type": "markdown",
   "metadata": {},
   "source": [
    "As Redes Neurais Convolucionais (CNN) são variantes de MLPs de inspiração biológica. Do trabalho inicial de Hubel e Wiesel no córtex visual do gato [Hubel68], sabemos que o córtex visual contém um arranjo complexo de células. Estas células são sensíveis a pequenas sub-regiões do campo visual, chamado de campo receptivo. As sub-regiões são revestidas para cobrir todo o campo visual. Essas células atuam como filtros locais sobre o espaço de entrada e são adequadas para explorar a forte correlação espacialmente local presente em imagens naturais.\n",
    "\n",
    "Adicionalmente, foram identificados dois tipos de células básicas: As células simples respondem de forma máxima a padrões de borda específicos dentro do seu campo receptivo. As células complexas têm campos receptivos maiores e são localmente invariantes à posição exata do padrão.\n",
    "\n",
    "O córtex animal visual sendo o sistema de processamento visual mais poderoso existente, parece natural emular o seu comportamento. Assim, muitos modelos de inspiração neuronal podem ser encontrados na literatura. Para citar alguns: o NeoCognitron [Fukushima], HMAX [Serre07] e LeNet-5 [LeCun98], que será o foco deste Jupyter Notebook."
   ]
  },
  {
   "cell_type": "markdown",
   "metadata": {},
   "source": [
    "http://yann.lecun.com/exdb/lenet/"
   ]
  },
  {
   "cell_type": "code",
   "execution_count": 1,
   "metadata": {
    "collapsed": true
   },
   "outputs": [],
   "source": [
    "# Carregando os pacotes e definindo parâmetros do Theano\n",
    "import numpy\n",
    "import theano\n",
    "import theano.tensor as T\n",
    "theano.config.floatX = 'float32'"
   ]
  },
  {
   "cell_type": "markdown",
   "metadata": {},
   "source": [
    "### Camada de Saída - Regressão Logística Multiclasse"
   ]
  },
  {
   "cell_type": "markdown",
   "metadata": {},
   "source": [
    "Vamos primeiro definir a camada de saída, usada para a previsão, que é semelhante à regressão logística."
   ]
  },
  {
   "cell_type": "code",
   "execution_count": 2,
   "metadata": {
    "collapsed": true
   },
   "outputs": [],
   "source": [
    "class LogisticRegression(object):\n",
    "    def __init__(self, input, n_in, n_out):\n",
    "        # Inicializar com 0 os pesos W como uma matriz de forma (n_in, n_out)\n",
    "        self.W = theano.shared(value = numpy.zeros((n_in, n_out), dtype = theano.config.floatX), \n",
    "                               name = 'W', \n",
    "                               borrow = True)\n",
    "        \n",
    "        # Inicializar o bias b como um vetor de 0s\n",
    "        self.b = theano.shared(value = numpy.zeros((n_out,), dtype = theano.config.floatX), \n",
    "                               name = 'b', \n",
    "                               borrow = True)\n",
    "\n",
    "        # Expressão simbólica para calcular a matriz de membros de classe \n",
    "        self.p_y_given_x = T.nnet.softmax(T.dot(input, self.W) + self.b)\n",
    "\n",
    "        # Descrição simbólica de como calcular a predição de uma classe \n",
    "        # Retorna índices de elementos máximos obtidos por iteração sobre determinado eixo\n",
    "        self.y_pred = T.argmax(self.p_y_given_x, axis=1)\n",
    "\n",
    "        # Parâmetros do modelo\n",
    "        self.params = [self.W, self.b]\n",
    "\n",
    "    def negative_log_likelihood(self, y):\n",
    "        \"\"\"Retorna a média da probabilidade logarítmica negativa da previsão\n",
    "         deste modelo sob uma dada distribuição-alvo.\n",
    "        \"\"\"\n",
    "        return -T.mean(T.log(self.p_y_given_x)[T.arange(y.shape[0]), y])\n",
    "\n",
    "    def errors(self, y):\n",
    "        \"\"\"Retorna um float representando o número de erros no minibatch\n",
    "         sobre o número total de exemplos do minibatch.\n",
    "        \"\"\"\n",
    "\n",
    "        # Verifica se y tem a mesma dimensão de y_pred\n",
    "        if y.ndim != self.y_pred.ndim:\n",
    "            raise TypeError('y deve ter o mesmo shape de self.y_pred', ('y', y.type, 'y_pred', self.y_pred.type))\n",
    "        \n",
    "        # Verifique se y é do tipo correto de dado\n",
    "        if y.dtype.startswith('int'):\n",
    "            # O operador T.neq retorna um vetor de 0s e 1s, onde 1\n",
    "            # representa um erro na previsão\n",
    "            return T.mean(T.neq(self.y_pred, y))\n",
    "        else:\n",
    "            raise NotImplementedError()"
   ]
  },
  {
   "cell_type": "markdown",
   "metadata": {},
   "source": [
    "### Camadas de Convolução e Pooling"
   ]
  },
  {
   "cell_type": "markdown",
   "metadata": {},
   "source": [
    "Agora podemos começar a definir o código de convolução. Começamos definindo um objeto que representa uma única camada de convolução que faz a operação de convolução real seguida de pooling sobre a saída dessa convolução. Essas camadas serão empilhadas no modelo final."
   ]
  },
  {
   "cell_type": "code",
   "execution_count": 3,
   "metadata": {
    "collapsed": true
   },
   "outputs": [],
   "source": [
    "from theano.tensor.signal import pool\n",
    "from theano.tensor.nnet import conv2d"
   ]
  },
  {
   "cell_type": "code",
   "execution_count": 4,
   "metadata": {
    "collapsed": true
   },
   "outputs": [],
   "source": [
    "class LeNetConvPoolLayer(object):\n",
    "    def __init__(self, rng, input, filter_shape, image_shape, poolsize=(2, 2)):\n",
    "        assert image_shape[1] == filter_shape[1]\n",
    "        self.input = input\n",
    "\n",
    "        # \"Número de input feature maps * altura do filtro * largura do filtro\"\n",
    "        # Entradas para cada unidade oculta\n",
    "        fan_in = numpy.prod(filter_shape[1:])\n",
    "        \n",
    "        # Cada unidade na camada inferior recebe um gradiente de:\n",
    "        # \"Número de output feature maps * altura do filtro * largura do filtro\" / pooling size\n",
    "        fan_out = (filter_shape[0] * numpy.prod(filter_shape[2:]) / numpy.prod(poolsize))\n",
    "        \n",
    "        # Inicializar pesos com pesos aleatórios\n",
    "        W_bound = numpy.sqrt(6. / (fan_in + fan_out))\n",
    "        self.W = theano.shared(\n",
    "            numpy.asarray(\n",
    "                rng.uniform(low=-W_bound, high=W_bound, size=filter_shape),\n",
    "                dtype=theano.config.floatX\n",
    "            ),\n",
    "            borrow=True\n",
    "        )\n",
    "\n",
    "        # O bias é um tensor 1D - um bias por output feature map\n",
    "        b_values = numpy.zeros((filter_shape[0],), dtype=theano.config.floatX)\n",
    "        self.b = theano.shared(value=b_values, borrow=True)\n",
    "\n",
    "        # Aplica convolução aos input feature maps com filtros\n",
    "        conv_out = conv2d(\n",
    "            input=input,\n",
    "            filters=self.W,\n",
    "            filter_shape=filter_shape,\n",
    "            input_shape=image_shape\n",
    "        )\n",
    "\n",
    "        # Aplicando MaxPooling a cada mapa de recursos individualmente\n",
    "        pooled_out = pool.pool_2d(\n",
    "            input=conv_out,\n",
    "            ds=poolsize,\n",
    "            ignore_border=True\n",
    "        )\n",
    "\n",
    "        # Adicione o termo de bias. Como o bias é um vetor (matriz 1D),\n",
    "        # Precisamos trasnsformá-lo para um tensor de forma (1, n_filters, 1, 1). \n",
    "        # Cada bias será, assim, transmitido em mini-batches e feature maps largura x altura\n",
    "        self.output = T.tanh(pooled_out + self.b.dimshuffle('x', 0, 'x', 'x'))\n",
    "\n",
    "        # Armazena o parâmetro desta camada\n",
    "        self.params = [self.W, self.b]"
   ]
  },
  {
   "cell_type": "markdown",
   "metadata": {},
   "source": [
    "### Camada Oculta Totalmente Conectada (Fully Connected)"
   ]
  },
  {
   "cell_type": "markdown",
   "metadata": {},
   "source": [
    "Vamos também definir uma camada totalmente conectada"
   ]
  },
  {
   "cell_type": "code",
   "execution_count": 5,
   "metadata": {
    "collapsed": true
   },
   "outputs": [],
   "source": [
    "class HiddenLayer(object):\n",
    "    def __init__(self, rng, input, n_in, n_out, W=None, b=None,\n",
    "                 activation=T.tanh):\n",
    "        self.input = input\n",
    "\n",
    "        if W is None:\n",
    "            W_values = numpy.asarray(\n",
    "                rng.uniform(\n",
    "                    low=-numpy.sqrt(6. / (n_in + n_out)),\n",
    "                    high=numpy.sqrt(6. / (n_in + n_out)),\n",
    "                    size=(n_in, n_out)\n",
    "                ),\n",
    "                dtype=theano.config.floatX\n",
    "            )\n",
    "            if activation == theano.tensor.nnet.sigmoid:\n",
    "                W_values *= 4\n",
    "\n",
    "            W = theano.shared(value=W_values, name='W', borrow=True)\n",
    "\n",
    "        if b is None:\n",
    "            b_values = numpy.zeros((n_out,), dtype=theano.config.floatX)\n",
    "            b = theano.shared(value=b_values, name='b', borrow=True)\n",
    "\n",
    "        self.W = W\n",
    "        self.b = b\n",
    "\n",
    "        lin_output = T.dot(input, self.W) + self.b\n",
    "        self.output = (\n",
    "            lin_output if activation is None\n",
    "            else activation(lin_output)\n",
    "        )\n",
    "        # Parâmetros do modelo\n",
    "        self.params = [self.W, self.b]"
   ]
  },
  {
   "cell_type": "markdown",
   "metadata": {
    "collapsed": true
   },
   "source": [
    "## Construindo o Modelo"
   ]
  },
  {
   "cell_type": "markdown",
   "metadata": {},
   "source": [
    "Este método seguinte usa a camada de convolução acima para fazer uma pilha e adicionar uma camada oculta seguida por uma camada de classificação de regressão logística.\n",
    "\n",
    "Basicamente estamos fazendo isso: Camada de Convolução + Camada Totalmente Conectada + Camada de Saída"
   ]
  },
  {
   "cell_type": "code",
   "execution_count": 6,
   "metadata": {
    "collapsed": true
   },
   "outputs": [],
   "source": [
    "import time\n",
    "\n",
    "theano.config.floatX = 'float32'"
   ]
  },
  {
   "cell_type": "code",
   "execution_count": 7,
   "metadata": {
    "collapsed": true
   },
   "outputs": [],
   "source": [
    "def evaluate_lenet5(train_set, test_set, valid_set,\n",
    "                    learning_rate=0.1, n_epochs=200,\n",
    "                    nkerns=[20, 50], batch_size=500):\n",
    "    rng = numpy.random.RandomState(23455)\n",
    "\n",
    "    # Cria um generator python que retorna minibatches um de cada vez\n",
    "    def minibatch_generator(dataset):\n",
    "        dataset_x, dataset_y = dataset\n",
    "        for i in range(dataset_x.shape[0] // batch_size):\n",
    "            start_idx = i * batch_size\n",
    "            end_idx = (i + 1) * batch_size\n",
    "            batch_x = dataset_x[start_idx:end_idx]\n",
    "            batch_y = dataset_y[start_idx:end_idx]\n",
    "            yield (batch_x, batch_y)\n",
    "\n",
    "    x = T.matrix('x')\n",
    "    y = T.lvector('y')\n",
    "\n",
    "    # Construir a primeira camada convolucional de pooling:\n",
    "    # Filtragem reduz o tamanho da imagem para (28-5 + 1, 28-5 + 1) = (24, 24)\n",
    "    # Maxpooling reduz isso ainda mais para (24/2, 24/2) = (12, 12)\n",
    "    # Tensor 4D de saída é, portanto, a forma (batch_size, nkerns [0], 12, 12)\n",
    "    layer0 = LeNetConvPoolLayer(\n",
    "        rng,\n",
    "        input=x.reshape((batch_size, 1, 28, 28)),\n",
    "        image_shape=(batch_size, 1, 28, 28),\n",
    "        filter_shape=(nkerns[0], 1, 5, 5),\n",
    "        poolsize=(2, 2)\n",
    "    )\n",
    "\n",
    "    # Construir a segunda camada de agrupamento convolucional\n",
    "    # Filtragem reduz o tamanho da imagem para (12-5 + 1, 12-5 + 1) = (8, 8)\n",
    "    # Maxpooling reduz isso ainda mais para (8/2, 8/2) = (4, 4)\n",
    "    # Tensor 4D de saída é, portanto, a forma (batch_size, nkerns [1], 4, 4)\n",
    "    layer1 = LeNetConvPoolLayer(\n",
    "        rng,\n",
    "        input=layer0.output,\n",
    "        image_shape=(batch_size, nkerns[0], 12, 12),\n",
    "        filter_shape=(nkerns[1], nkerns[0], 5, 5),\n",
    "        poolsize=(2, 2)\n",
    "    )\n",
    "\n",
    "    # A HiddenLayer sendo totalmente conectada, opera em matrizes 2D de\n",
    "    # shape (batch_size, num_pixels) (ou seja, matriz de imagens rasterizadas).\n",
    "    # Isto irá gerar uma matriz de forma (batch_size, nkerns [1] * 4 * 4),\n",
    "    # Ou (500, 50 * 4 * 4) = (500, 800) com os valores padrão.\n",
    "    layer2_input = layer1.output.flatten(2)\n",
    "\n",
    "    # Construir a camada totalmente conectada.\n",
    "    layer2 = HiddenLayer(\n",
    "        rng,\n",
    "        input=layer2_input,\n",
    "        n_in=nkerns[1] * 4 * 4,\n",
    "        n_out=500,\n",
    "        activation=T.tanh\n",
    "    )\n",
    "\n",
    "    # Classificar os valores da camada totalmente conectada\n",
    "    layer3 = LogisticRegression(input=layer2.output, n_in=500, n_out=10)\n",
    "\n",
    "    # O custo que minimizamos durante o treinamento \n",
    "    cost = layer3.negative_log_likelihood(y)\n",
    "\n",
    "    # Criar uma função para calcular os erros que são produzidos pelo modelo\n",
    "    model_errors = theano.function(\n",
    "        [x, y],\n",
    "        layer3.errors(y)\n",
    "    )\n",
    "\n",
    "    # Criar uma lista de todos os parâmetros do modelo a serem ajustados por descida do gradiente\n",
    "    params = layer3.params + layer2.params + layer1.params + layer0.params\n",
    "\n",
    "    # Criar uma lista de gradientes para todos os parâmetros do modelo\n",
    "    grads = T.grad(cost, params)\n",
    "\n",
    "    # Train_model é uma função que atualiza os parâmetros do modelo\n",
    "    # uma vez que este modelo tem muitos parâmetros, seria tedioso \n",
    "    # criar manualmente uma regra de atualização para cada parâmetro do modelo. \n",
    "    # Assim, criar a lista de atualizações fazendo um loop automático\n",
    "    # (Params [i], grads [i]) pares.\n",
    "\n",
    "    updates = [\n",
    "        (param_i, param_i - learning_rate * grad_i)\n",
    "        for param_i, grad_i in zip(params, grads)\n",
    "    ]\n",
    "\n",
    "    train_model = theano.function(\n",
    "        [x, y],\n",
    "        cost,\n",
    "        updates=updates\n",
    "    )\n",
    "\n",
    "    # Parâmetros de paragem precoce (early-stopping parameters)\n",
    "    patience = 10000  \n",
    "    patience_increase = 2\n",
    "\n",
    "    # Uma melhoria relativa \n",
    "    improvement_threshold = 0.995\n",
    "\n",
    "    n_train_batches = (train_set[0].shape[0] + batch_size - 1) // batch_size\n",
    "    \n",
    "    # Passar por este muitos minibatches antes de verificar a rede no\n",
    "    # conjunto de validação. Neste caso, verificamos todas as épocas\n",
    "    validation_frequency = min(n_train_batches, patience / 2)\n",
    "\n",
    "    best_validation_loss = numpy.inf\n",
    "    best_iter = 0\n",
    "    test_score = 0.\n",
    "    start_time = time.clock()\n",
    "\n",
    "    epoch = 0\n",
    "    iter = 0\n",
    "    done_looping = False\n",
    "\n",
    "    while (epoch < n_epochs) and (not done_looping):\n",
    "        epoch = epoch + 1\n",
    "\n",
    "        minibatch_index = 0\n",
    "        for minibatch in minibatch_generator(train_set):\n",
    "            iter += 1\n",
    "            minibatch_index += 1\n",
    "            if iter % 100 == 0:\n",
    "                print('Treinamento @ iter = %i' % iter)\n",
    "\n",
    "            error = train_model(minibatch[0], minibatch[1])\n",
    "\n",
    "            if (iter + 1) % validation_frequency == 0:\n",
    "\n",
    "                # Computa zero-one loss no conjunto de validação\n",
    "                validation_losses = [model_errors(vb[0], vb[1]) for vb\n",
    "                                     in minibatch_generator(valid_set)]\n",
    "                this_validation_loss = numpy.mean(validation_losses)\n",
    "                print('epoch %i, minibatch %i/%i, erro de validação %f %%' %\n",
    "                      (epoch, minibatch_index + 1, n_train_batches,\n",
    "                       this_validation_loss * 100.))\n",
    "\n",
    "                # Se obtivemos a melhor pontuação de validação até agora\n",
    "                if this_validation_loss < best_validation_loss:\n",
    "\n",
    "                    # Aumente o parâmetro \"patience\" se a melhora de perda é razoável \n",
    "                    if this_validation_loss < best_validation_loss * improvement_threshold:\n",
    "                        patience = max(patience, iter * patience_increase)\n",
    "\n",
    "                    # Salvar a melhor pontuação de validação eo número de iteração\n",
    "                    best_validation_loss = this_validation_loss\n",
    "                    best_iter = iter\n",
    "\n",
    "                    # Teste-o no conjunto de teste\n",
    "                    test_losses = [\n",
    "                        model_errors(tb[0], tb[1])\n",
    "                        for tb in minibatch_generator(test_set)\n",
    "                    ]\n",
    "                    test_score = numpy.mean(test_losses)\n",
    "                    print(('     epoch %i, minibatch %i/%i, erro de teste do '\n",
    "                           'melhor modelo %f %%') %\n",
    "                          (epoch, minibatch_index + 1, n_train_batches,\n",
    "                           test_score * 100.))\n",
    "\n",
    "            if patience <= iter:\n",
    "                done_looping = True\n",
    "                break\n",
    "\n",
    "    end_time = time.clock()\n",
    "    print('Otimização Concluída.')\n",
    "    print('Melhor score de validação %f %% obtido na iteração %i, '\n",
    "          'com teste de performance %f %%' %\n",
    "          (best_validation_loss * 100., best_iter + 1, test_score * 100.))\n",
    "    print('O código executou em %.2fm' % ((end_time - start_time) / 60.))\n",
    "\n",
    "    # Isso é para fazer as imagens bonitas nas células abaixo\n",
    "    layer0_out = theano.function([x], layer0.output)\n",
    "    layer1_out = theano.function([x], layer1.output)\n",
    "    \n",
    "    return params, layer0_out, layer1_out"
   ]
  },
  {
   "cell_type": "markdown",
   "metadata": {},
   "source": [
    "### Carregando os Dados e Testando o Modelo"
   ]
  },
  {
   "cell_type": "markdown",
   "metadata": {},
   "source": [
    "Isso carregará uma versão pré-empacotada de MNIST, cada divisão como NumPy ndarrays."
   ]
  },
  {
   "cell_type": "code",
   "execution_count": 8,
   "metadata": {
    "collapsed": false
   },
   "outputs": [
    {
     "name": "stdout",
     "output_type": "stream",
     "text": [
      "--2017-05-04 21:41:02--  http://www.iro.umontreal.ca/~lisa/deep/data/mnist/mnist.pkl.gz\n",
      "Resolving www.iro.umontreal.ca (www.iro.umontreal.ca)... 132.204.26.36\n",
      "Connecting to www.iro.umontreal.ca (www.iro.umontreal.ca)|132.204.26.36|:80... connected.\n",
      "HTTP request sent, awaiting response... 200 OK\n",
      "Length: 16168813 (15M) [application/x-gzip]\n",
      "Saving to: ‘mnist.pkl.gz.2’\n",
      "\n",
      "mnist.pkl.gz.2      100%[===================>]  15.42M  4.25MB/s    in 5.4s    \n",
      "\n",
      "2017-05-04 21:41:08 (2.85 MB/s) - ‘mnist.pkl.gz.2’ saved [16168813/16168813]\n",
      "\n"
     ]
    }
   ],
   "source": [
    "!wget http://www.iro.umontreal.ca/~lisa/deep/data/mnist/mnist.pkl.gz"
   ]
  },
  {
   "cell_type": "code",
   "execution_count": 9,
   "metadata": {
    "collapsed": true
   },
   "outputs": [],
   "source": [
    "import gzip\n",
    "import six\n",
    "import warnings\n",
    "warnings.filterwarnings('ignore')\n",
    "from six.moves import cPickle\n",
    "\n",
    "with gzip.open('mnist.pkl.gz', 'rb') as data_file:\n",
    "    if six.PY3:\n",
    "        train_set, valid_set, test_set = cPickle.load(data_file, encoding='latin1')\n",
    "    else:\n",
    "        train_set, valid_set, test_set = cPickle.load(data_file)"
   ]
  },
  {
   "cell_type": "code",
   "execution_count": 10,
   "metadata": {
    "collapsed": false
   },
   "outputs": [
    {
     "name": "stdout",
     "output_type": "stream",
     "text": [
      "Treinamento @ iter = 100\n",
      "Treinamento @ iter = 200\n",
      "Treinamento @ iter = 300\n",
      "Treinamento @ iter = 400\n",
      "Treinamento @ iter = 500\n",
      "Treinamento @ iter = 600\n",
      "Treinamento @ iter = 700\n",
      "Treinamento @ iter = 800\n",
      "Treinamento @ iter = 900\n",
      "epoch 1, minibatch 1000/1000, erro de validação 2.540000 %\n",
      "     epoch 1, minibatch 1000/1000, erro de teste do melhor modelo 2.790000 %\n",
      "Treinamento @ iter = 1000\n",
      "Treinamento @ iter = 1100\n",
      "Treinamento @ iter = 1200\n",
      "Treinamento @ iter = 1300\n",
      "Treinamento @ iter = 1400\n",
      "Treinamento @ iter = 1500\n",
      "Treinamento @ iter = 1600\n",
      "Treinamento @ iter = 1700\n",
      "Treinamento @ iter = 1800\n",
      "Treinamento @ iter = 1900\n",
      "epoch 2, minibatch 1000/1000, erro de validação 1.900000 %\n",
      "     epoch 2, minibatch 1000/1000, erro de teste do melhor modelo 1.900000 %\n",
      "Treinamento @ iter = 2000\n",
      "Treinamento @ iter = 2100\n",
      "Treinamento @ iter = 2200\n",
      "Treinamento @ iter = 2300\n",
      "Treinamento @ iter = 2400\n",
      "Treinamento @ iter = 2500\n",
      "Treinamento @ iter = 2600\n",
      "Treinamento @ iter = 2700\n",
      "Treinamento @ iter = 2800\n",
      "Treinamento @ iter = 2900\n",
      "epoch 3, minibatch 1000/1000, erro de validação 1.490000 %\n",
      "     epoch 3, minibatch 1000/1000, erro de teste do melhor modelo 1.470000 %\n",
      "Treinamento @ iter = 3000\n",
      "Treinamento @ iter = 3100\n",
      "Treinamento @ iter = 3200\n",
      "Treinamento @ iter = 3300\n",
      "Treinamento @ iter = 3400\n",
      "Treinamento @ iter = 3500\n",
      "Treinamento @ iter = 3600\n",
      "Treinamento @ iter = 3700\n",
      "Treinamento @ iter = 3800\n",
      "Treinamento @ iter = 3900\n",
      "epoch 4, minibatch 1000/1000, erro de validação 1.330000 %\n",
      "     epoch 4, minibatch 1000/1000, erro de teste do melhor modelo 1.290000 %\n",
      "Treinamento @ iter = 4000\n",
      "Treinamento @ iter = 4100\n",
      "Treinamento @ iter = 4200\n",
      "Treinamento @ iter = 4300\n",
      "Treinamento @ iter = 4400\n",
      "Treinamento @ iter = 4500\n",
      "Treinamento @ iter = 4600\n",
      "Treinamento @ iter = 4700\n",
      "Treinamento @ iter = 4800\n",
      "Treinamento @ iter = 4900\n",
      "epoch 5, minibatch 1000/1000, erro de validação 1.240000 %\n",
      "     epoch 5, minibatch 1000/1000, erro de teste do melhor modelo 1.240000 %\n",
      "Treinamento @ iter = 5000\n",
      "Otimização Concluída.\n",
      "Melhor score de validação 1.240000 % obtido na iteração 5000, com teste de performance 1.240000 %\n",
      "O código executou em 7.52m\n"
     ]
    }
   ],
   "source": [
    "params, layer0_out, layer1_out = evaluate_lenet5(train_set, test_set, valid_set,\n",
    "                                                 learning_rate=0.1, n_epochs=5,\n",
    "                                                 nkerns=[10, 25], batch_size=50)"
   ]
  },
  {
   "cell_type": "markdown",
   "metadata": {},
   "source": [
    "### Plot"
   ]
  },
  {
   "cell_type": "markdown",
   "metadata": {},
   "source": [
    "Para a maioria dos modelos de convolução pode ser interessante mostrar o que os filtros treinados \"olham\". O código abaixo faz isso a partir dos parâmetros retornados pela função de treinamento acima. Neste modelo não há muito efeito, uma vez que os filtros são 5x5 e não podemos ver muito, infelizmente."
   ]
  },
  {
   "cell_type": "code",
   "execution_count": 11,
   "metadata": {
    "collapsed": false
   },
   "outputs": [
    {
     "data": {
      "text/plain": [
       "(-0.5, 148.5, 58.5, -0.5)"
      ]
     },
     "execution_count": 11,
     "metadata": {},
     "output_type": "execute_result"
    },
    {
     "data": {
      "image/png": "[encoded data removed]",
      "text/plain": [
       "<matplotlib.figure.Figure at 0x7f7a43ba8a58>"
      ]
     },
     "metadata": {},
     "output_type": "display_data"
    }
   ],
   "source": [
    "%matplotlib inline\n",
    "import matplotlib.pyplot as plt\n",
    "\n",
    "from utils import tile_raster_images\n",
    "\n",
    "filts1 = params[6].get_value()\n",
    "filts2 = params[4].get_value()\n",
    "\n",
    "plt.clf()\n",
    "\n",
    "# Aumenta o tamanho da figura\n",
    "plt.gcf().set_size_inches(15, 10)\n",
    "\n",
    "# Cria um grid para as duas camadas\n",
    "gs = plt.GridSpec(2, 2, width_ratios=[1, 25], height_ratios=[1, 1])\n",
    "a = plt.subplot(gs[0])\n",
    "b = plt.subplot(gs[1])\n",
    "\n",
    "# Mostra os filtros de primeira camada \n",
    "a.imshow(tile_raster_images(filts1.reshape(10, 25), img_shape=(5, 5), tile_shape=(10, 1), tile_spacing=(1,1)),\n",
    "           cmap=\"Greys\", interpolation=\"none\")\n",
    "a.axis('off')\n",
    "\n",
    "# Mostre os filtros da segunda camada \n",
    "b.imshow(tile_raster_images(filts2.reshape(250, 25), img_shape=(5, 5), tile_shape=(10, 25), tile_spacing=(1,1)),\n",
    "           cmap=\"Greys\", interpolation=\"none\")\n",
    "b.axis('off')"
   ]
  },
  {
   "cell_type": "markdown",
   "metadata": {},
   "source": [
    "O que também pode ser interessante é desenhar as saídas dos filtros para um exemplo. Isso funciona um pouco melhor para este modelo."
   ]
  },
  {
   "cell_type": "code",
   "execution_count": 12,
   "metadata": {
    "collapsed": false
   },
   "outputs": [
    {
     "data": {
      "text/plain": [
       "(-0.5, 23.5, 23.5, -0.5)"
      ]
     },
     "execution_count": 12,
     "metadata": {},
     "output_type": "execute_result"
    },
    {
     "data": {
      "image/png": "[encoded data removed]",
      "text/plain": [
       "<matplotlib.figure.Figure at 0x7f7a3c0a9ef0>"
      ]
     },
     "metadata": {},
     "output_type": "display_data"
    }
   ],
   "source": [
    "%matplotlib inline\n",
    "import matplotlib.pyplot as plt\n",
    "\n",
    "from utils import tile_raster_images\n",
    "\n",
    "# Pegue alguns exemplos de entrada do conjunto de teste \n",
    "sample = test_set[0][:50]\n",
    "\n",
    "# Vamos imprimir este exemplo entre o lote\n",
    "example = 7\n",
    "\n",
    "plt.gcf()\n",
    "\n",
    "# Aumenta o tamanho da figura\n",
    "plt.gcf().set_size_inches(15, 10)\n",
    "\n",
    "gs = plt.GridSpec(3, 3, width_ratios=[1, 1, 1], height_ratios=[1, 1, 1])\n",
    "\n",
    "# Desenha os dados de entrada\n",
    "a = plt.subplot(gs[0])\n",
    "a.imshow(sample[example].reshape(28, 28), cmap=\"Greys\", interpolation='none')\n",
    "a.axis('off')\n",
    "\n",
    "# Calcula a saída da primeira camada\n",
    "out0 = layer0_out(sample)[example]\n",
    "\n",
    "# Desenha a saída\n",
    "b = plt.subplot(gs[1])\n",
    "b.imshow(tile_raster_images(out0.reshape(10, 144), img_shape=(12, 12), tile_shape=(5, 2), tile_spacing=(1, 1)),\n",
    "         cmap=\"Greys\", interpolation='none')\n",
    "b.axis('off')\n",
    "\n",
    "# Calcule a saída da segunda camada\n",
    "out1 = layer1_out(sample)[example]\n",
    "\n",
    "# Gera a saída\n",
    "c = plt.subplot(gs[2])\n",
    "c.imshow(tile_raster_images(out1.reshape(25, 16), img_shape=(4, 4), tile_shape=(5, 5), tile_spacing=(1, 1)),\n",
    "         cmap=\"Greys\", interpolation='none')\n",
    "c.axis('off')"
   ]
  },
  {
   "cell_type": "markdown",
   "metadata": {},
   "source": [
    "### Algumas coisas que você pode tentar com este modelo:\n",
    "\n",
    "### Alterar a função de ativação da convolução para a unidade retificadora (ReLu).\n",
    "\n",
    "### Adicionar uma camada extra de convolução\n"
   ]
  },
  {
   "cell_type": "markdown",
   "metadata": {},
   "source": [
    "## FIM"
   ]
  }
 ],
 "metadata": {
  "kernelspec": {
   "display_name": "Python 3",
   "language": "python",
   "name": "python3"
  },
  "language_info": {
   "codemirror_mode": {
    "name": "ipython",
    "version": 3
   },
   "file_extension": ".py",
   "mimetype": "text/x-python",
   "name": "python",
   "nbconvert_exporter": "python",
   "pygments_lexer": "ipython3",
   "version": "3.6.0"
  }
 },
 "nbformat": 4,
 "nbformat_minor": 2
}
